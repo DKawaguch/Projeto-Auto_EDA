{
 "cells": [
  {
   "cell_type": "markdown",
   "metadata": {},
   "source": [
    "# Imports"
   ]
  },
  {
   "cell_type": "code",
   "execution_count": 40,
   "metadata": {},
   "outputs": [
    {
     "name": "stdout",
     "output_type": "stream",
     "text": [
      "Todos os pacotes foram importados com sucesso!\n"
     ]
    }
   ],
   "source": [
    "import streamlit as st\n",
    "import pandas as pd\n",
    "import numpy as np\n",
    "import seaborn as sns\n",
    "import matplotlib.pyplot as plt\n",
    "from sklearn.feature_selection import VarianceThreshold\n",
    "from sklearn.impute import SimpleImputer\n",
    "from fpdf import FPDF\n",
    "from io import BytesIO\n",
    "\n",
    "print(\"Todos os pacotes foram importados com sucesso!\")"
   ]
  },
  {
   "cell_type": "markdown",
   "metadata": {},
   "source": [
    "# Importar Dados"
   ]
  },
  {
   "cell_type": "code",
   "execution_count": 41,
   "metadata": {},
   "outputs": [],
   "source": [
    "# Função para carregar dados\n",
    "def load_data(file):\n",
    "    if file.name.endswith('.csv'):\n",
    "        return pd.read_csv(file)\n",
    "    elif file.name.endswith('.xlsx'):\n",
    "        return pd.read_excel(file)\n",
    "    else:\n",
    "        st.error(\"Formato de arquivo não suportado. Use CSV ou Excel.\")\n",
    "        return None"
   ]
  },
  {
   "cell_type": "markdown",
   "metadata": {},
   "source": [
    "# Selecionar as variáveis com base em variância, percentual de missings, e correlação de Pearson"
   ]
  },
  {
   "cell_type": "code",
   "execution_count": 42,
   "metadata": {},
   "outputs": [],
   "source": [
    "# Função para filtrar variáveis com base em critérios estatísticos\n",
    "def filter_variables(df, variance_threshold, missing_threshold, correlation_threshold):\n",
    "    # Remover variáveis com alta porcentagem de valores ausentes\n",
    "    df_filtered = df.loc[:, df.isnull().mean() <= missing_threshold]\n",
    "\n",
    "    # Preencher valores ausentes para análise de variância(média)\n",
    "    imputer = SimpleImputer(strategy='mean')\n",
    "    df_filled = pd.DataFrame(imputer.fit_transform(df_filtered), columns=df_filtered.columns)\n",
    "\n",
    "    # Selecionar variáveis com variância acima do limite\n",
    "    selector = VarianceThreshold(threshold=variance_threshold)\n",
    "    selector.fit(df_filled)\n",
    "    df_filtered = df_filtered.loc[:, selector.get_support()]\n",
    "\n",
    "    # Remover variáveis altamente correlacionadas\n",
    "    corr_matrix = df_filtered.corr().abs()\n",
    "    upper_triangle = np.triu(np.ones(corr_matrix.shape), k=1).astype(bool)\n",
    "    to_drop = [column for column in corr_matrix.columns if any(corr_matrix[column][upper_triangle] > correlation_threshold)]\n",
    "    df_filtered = df_filtered.drop(columns=to_drop)"
   ]
  },
  {
   "cell_type": "markdown",
   "metadata": {},
   "source": [
    "# Apresentar análise de forma gráfica contendo gráficos apropriados para variáveis numéricas e categóricas"
   ]
  },
  {
   "cell_type": "code",
   "execution_count": 43,
   "metadata": {},
   "outputs": [],
   "source": [
    "# Plot de variáveis numéricas\n",
    "def plot_numeric_variable(df):\n",
    "    numeric_vars = df.select_dtypes(include=['float64', 'int64']).columns\n",
    "    for var in numeric_vars:\n",
    "        st.subheader(f\"Distribuição: {var}\")\n",
    "        fig, ax = plt.subplots()\n",
    "        sns.histplot(df[var].dropna(), kde=True, ax=ax)\n",
    "        st.pyplot(fig)"
   ]
  },
  {
   "cell_type": "code",
   "execution_count": 44,
   "metadata": {},
   "outputs": [],
   "source": [
    "# Plot de vairáveis categóricas\n",
    "def plot_categorical_variable(df):\n",
    "    categorical_vars = df.select_dtypes(include=['object', 'category']).columns\n",
    "    for var in categorical_vars:\n",
    "        st.subheader(f\"Distribuição: {var}\")\n",
    "        fig, ax = plt.subplots()\n",
    "        sns.countplot(data=df, x=var, ax=ax)\n",
    "        st.pyplot(fig)"
   ]
  },
  {
   "cell_type": "markdown",
   "metadata": {},
   "source": [
    "# Apresentar a relação entre duas variáveis numéricas"
   ]
  },
  {
   "cell_type": "code",
   "execution_count": 45,
   "metadata": {},
   "outputs": [],
   "source": [
    "# Plot de correlação\n",
    "def plot_relationship(df, var1, var2):\n",
    "    st.subheader(f\"Relação entre {var1} e {var2}\")\n",
    "    fig, ax = plt.subplots()\n",
    "    sns.scatterplot(data=df, x=var1, y=var2, ax=ax)\n",
    "    st.pyplot(fig)\n"
   ]
  },
  {
   "cell_type": "markdown",
   "metadata": {},
   "source": [
    "# (DESAFIO) - Faça com que a ferramenta seja capaz de gerar um PDF contendo toda a análise visual de forma elegante, como um relatório técnico e que seja possível fazer o download deste arquivo."
   ]
  },
  {
   "cell_type": "code",
   "execution_count": 46,
   "metadata": {},
   "outputs": [],
   "source": [
    "# Função para gerar PDF\n",
    "def generate_pdf(analysis_images):\n",
    "    pdf = FPDF()\n",
    "    pdf.set_auto_page_break(auto=True, margin=15)\n",
    "    pdf.add_page()\n",
    "    pdf.set_font('Arial', 'B', 12)\n",
    "    pdf.cell(0, 10, 'Relatório de Análise de Dados', ln=True, align='C')\n",
    "    pdf.ln(10)\n",
    "\n",
    "    for title, img_bytes in analysis_images:\n",
    "        pdf.add_page()\n",
    "        pdf.set_font('Arial', 'B', 12)\n",
    "        pdf.cell(0, 10, title, ln=True)\n",
    "        pdf.ln(10)\n",
    "        pdf.image(img_bytes, x=10, y=30, w=190)\n",
    "\n",
    "    pdf_output = BytesIO()\n",
    "    pdf.output(pdf_output)\n",
    "    pdf_output.seek(0)\n",
    "    return pdf_output"
   ]
  },
  {
   "cell_type": "markdown",
   "metadata": {},
   "source": [
    "# Aplicando o Streamlit e a interação com o usuário"
   ]
  },
  {
   "cell_type": "code",
   "execution_count": 47,
   "metadata": {},
   "outputs": [
    {
     "name": "stderr",
     "output_type": "stream",
     "text": [
      "2024-12-22 12:00:29.018 Thread 'MainThread': missing ScriptRunContext! This warning can be ignored when running in bare mode.\n",
      "2024-12-22 12:00:29.020 Thread 'MainThread': missing ScriptRunContext! This warning can be ignored when running in bare mode.\n",
      "2024-12-22 12:00:29.020 Thread 'MainThread': missing ScriptRunContext! This warning can be ignored when running in bare mode.\n",
      "2024-12-22 12:00:29.021 Thread 'MainThread': missing ScriptRunContext! This warning can be ignored when running in bare mode.\n",
      "2024-12-22 12:00:29.023 Thread 'MainThread': missing ScriptRunContext! This warning can be ignored when running in bare mode.\n",
      "2024-12-22 12:00:29.023 Thread 'MainThread': missing ScriptRunContext! This warning can be ignored when running in bare mode.\n"
     ]
    }
   ],
   "source": [
    "# Aplicação Streamlit\n",
    "st.title(\"Ferramenta de Análise de Dados\")\n",
    "\n",
    "uploaded_file = st.file_uploader(\"Carregue seu arquivo (CSV ou Excel):\")\n",
    "\n",
    "if uploaded_file is not None:\n",
    "    df = load_data(uploaded_file)\n",
    "    if df is not None:\n",
    "        st.write(\"Dados carregados com sucesso!\")\n",
    "        st.write(df.head())\n",
    "\n",
    "        st.sidebar.title(\"Configurações\")\n",
    "        variance_threshold = st.sidebar.slider(\"Limite de variância mínima\", 0.0, 1.0, 0.01, 0.01)\n",
    "        missing_threshold = st.sidebar.slider(\"Limite máximo de valores ausentes (%)\", 0.0, 1.0, 0.2, 0.01)\n",
    "        correlation_threshold = st.sidebar.slider(\"Limite de correlação\", 0.0, 1.0, 0.8, 0.01)\n",
    "\n",
    "        df_filtered = filter_variables(df, variance_threshold, missing_threshold, correlation_threshold)\n",
    "        st.write(\"Dados após filtragem:\")\n",
    "        st.write(df_filtered.head())\n",
    "\n",
    "        st.subheader(\"Análise Visual\")\n",
    "        st.write(\"Gráficos para variáveis numéricas:\")\n",
    "        plot_numeric_variable(df_filtered)\n",
    "\n",
    "        st.write(\"Gráficos para variáveis categóricas:\")\n",
    "        plot_categorical_variable(df_filtered)\n",
    "\n",
    "        numeric_vars = df_filtered.select_dtypes(include=['float64', 'int64']).columns\n",
    "        if len(numeric_vars) > 1:\n",
    "            var1 = st.selectbox(\"Escolha a primeira variável numérica:\", numeric_vars)\n",
    "            var2 = st.selectbox(\"Escolha a segunda variável numérica:\", numeric_vars)\n",
    "            if var1 != var2:\n",
    "                plot_relationship(df_filtered, var1, var2)\n",
    "\n",
    "        # Gerar PDF\n",
    "        if st.button(\"Gerar Relatório PDF\"):\n",
    "            analysis_images = []\n",
    "\n",
    "            # Salvar gráficos em memória\n",
    "            numeric_vars = df_filtered.select_dtypes(include=['float64', 'int64']).columns\n",
    "            for var in numeric_vars:\n",
    "                fig, ax = plt.subplots()\n",
    "                sns.histplot(df_filtered[var].dropna(), kde=True, ax=ax)\n",
    "                img_bytes = BytesIO()\n",
    "                fig.savefig(img_bytes, format='png')\n",
    "                img_bytes.seek(0)\n",
    "                analysis_images.append((f\"Distribuição: {var}\", img_bytes))\n",
    "                plt.close(fig)\n",
    "\n",
    "            pdf_file = generate_pdf(analysis_images)\n",
    "\n",
    "            st.download_button(\n",
    "                label=\"Baixar Relatório PDF\",\n",
    "                data=pdf_file,\n",
    "                file_name=\"relatorio_analise.pdf\",\n",
    "                mime=\"application/pdf\"\n",
    "            )"
   ]
  }
 ],
 "metadata": {
  "kernelspec": {
   "display_name": "Python 3",
   "language": "python",
   "name": "python3"
  },
  "language_info": {
   "codemirror_mode": {
    "name": "ipython",
    "version": 3
   },
   "file_extension": ".py",
   "mimetype": "text/x-python",
   "name": "python",
   "nbconvert_exporter": "python",
   "pygments_lexer": "ipython3",
   "version": "3.12.2"
  }
 },
 "nbformat": 4,
 "nbformat_minor": 2
}
